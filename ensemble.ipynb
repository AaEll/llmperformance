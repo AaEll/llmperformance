{
 "cells": [
  {
   "cell_type": "code",
   "execution_count": 1,
   "id": "15aeb1a3-789f-40b2-9df3-c59757532a78",
   "metadata": {},
   "outputs": [],
   "source": [
    "import argparse\n",
    "import json\n",
    "import os\n",
    "import time\n",
    "\n",
    "import pandas as pd\n",
    "import tensor_parallel as tp\n",
    "import torch\n",
    "from tqdm import tqdm\n",
    "from transformers import LlamaForCausalLM, LlamaTokenizer, AutoTokenizer, AutoModelForCausalLM, AutoModelForSeq2SeqLM\n",
    "\n",
    "from accelerate import init_empty_weights, load_checkpoint_and_dispatch\n",
    "\n",
    "\n",
    "\n",
    "#"
   ]
  },
  {
   "cell_type": "code",
   "execution_count": 2,
   "id": "51af5fc5-8a97-486e-b7ee-a4c0ae3330b6",
   "metadata": {},
   "outputs": [],
   "source": [
    "TASKS = [\n",
    "        'abstract_algebra',\n",
    "        'anatomy',\n",
    "        'astronomy',\n",
    "        'business_ethics',\n",
    "        'clinical_knowledge',\n",
    "        'college_biology',\n",
    "        'college_chemistry',\n",
    "        'college_computer_science',\n",
    "        'college_mathematics',\n",
    "        'college_medicine',\n",
    "        'college_physics',\n",
    "        'computer_security',\n",
    "        'conceptual_physics',\n",
    "        'econometrics',\n",
    "        'electrical_engineering',\n",
    "        'elementary_mathematics',\n",
    "        'formal_logic',\n",
    "        'global_facts',\n",
    "        'high_school_biology',\n",
    "        'high_school_chemistry',\n",
    "        'high_school_computer_science',\n",
    "        'high_school_european_history',\n",
    "        'high_school_geography',\n",
    "        'high_school_government_and_politics',\n",
    "        'high_school_macroeconomics',\n",
    "        'high_school_mathematics',\n",
    "        'high_school_microeconomics',\n",
    "        'high_school_physics',\n",
    "        'high_school_psychology',\n",
    "        'high_school_statistics',\n",
    "        'high_school_us_history',\n",
    "        'high_school_world_history',\n",
    "        'human_aging',\n",
    "        'human_sexuality',\n",
    "        'international_law',\n",
    "        'jurisprudence',\n",
    "        'logical_fallacies',\n",
    "        'machine_learning',\n",
    "        'management',\n",
    "        'marketing',\n",
    "        'medical_genetics',\n",
    "        'miscellaneous',\n",
    "        'moral_disputes',\n",
    "        'moral_scenarios',\n",
    "        'nutrition',\n",
    "        'philosophy',\n",
    "        'prehistory',\n",
    "        'professional_accounting',\n",
    "        'professional_law',\n",
    "        'professional_medicine',\n",
    "        'professional_psychology',\n",
    "        'public_relations',\n",
    "        'security_studies', \n",
    "        'sociology',\n",
    "        'us_foreign_policy',\n",
    "        'virology',\n",
    "        'world_religions']\n",
    "\n",
    "choices = [\"A\", \"B\", \"C\", \"D\"]\n"
   ]
  },
  {
   "cell_type": "code",
   "execution_count": 3,
   "id": "d8591d6a-eccf-47e5-899a-82481de61288",
   "metadata": {},
   "outputs": [],
   "source": [
    "\n",
    "\n",
    "def compute_metric(output_filename):\n",
    "    with open(output_filename, 'r') as f:\n",
    "        run_results = json.load(f)\n",
    "    total_acc = 0\n",
    "    total_num = 0\n",
    "    for task in run_results:\n",
    "        acc = 0\n",
    "        pred_answers = run_results[task]['pred_answers']\n",
    "        gold_answers = run_results[task]['gold_answers']\n",
    "        for pred, gold in zip(pred_answers, gold_answers):\n",
    "            if pred == gold: acc += 1\n",
    "        print(\"ACC-%s: %.4f\" % (task, acc/len(gold_answers)))\n",
    "        total_acc += acc\n",
    "        total_num += len(gold_answers)\n",
    "    print(\"ACC-all: %.4f\" % (total_acc/total_num))\n",
    "\n",
    "\n",
    "def format_subject(subject):\n",
    "    l = subject.split(\"_\")\n",
    "    s = \"\"\n",
    "    for entry in l:\n",
    "        s += \" \" + entry\n",
    "    return s\n",
    "\n",
    "def format_example(df, idx, include_answer=True):\n",
    "    prompt = df.iloc[idx, 0]\n",
    "    k = df.shape[1] - 2\n",
    "    for j in range(k):\n",
    "        prompt += \"\\n{}. {}\".format(choices[j], df.iloc[idx, j+1])\n",
    "    prompt += \"\\nAnswer:\"\n",
    "    if include_answer:\n",
    "        prompt += \" {}\\n\\n\".format(df.iloc[idx, k + 1])\n",
    "    return prompt\n",
    "\n",
    "def gen_prompt(train_df, subject, k=-1):\n",
    "    prompt = \"The following are multiple choice questions (with answers) about {}.\\n\\n\".format(format_subject(subject))\n",
    "    if k == -1:\n",
    "        k = train_df.shape[0]\n",
    "    for i in range(k):\n",
    "        prompt += format_example(train_df, i)\n",
    "    return prompt\n",
    "\n",
    "\n",
    "# def custom_stopping_criteria(input_ids, score, **kwargs):\n",
    "#     stop_ids = [29871, 13, 13] # \\n\\n \n",
    "#     return input_ids[-len(stop_ids)]\n",
    "\n",
    "def prepare_input(tokenizer, prompts):\n",
    "    input_tokens = tokenizer.batch_encode_plus(prompts, return_tensors=\"pt\", padding=True)\n",
    "    input_tokens = {k:input_tokens[k] for k in input_tokens if k in [\"input_ids\", \"attention_mask\"]}\n",
    "    for t in input_tokens:\n",
    "        if torch.is_tensor(input_tokens[t]):\n",
    "            input_tokens[t] = input_tokens[t].to('cuda')\n",
    "\n",
    "    return input_tokens\n",
    "\n",
    "def load(ckpt_dir, model_type):\n",
    "    n_gpus = torch.cuda.device_count()\n",
    "\n",
    "    if model_type == 'llama':\n",
    "        # we use tensor parallel for loading llama\n",
    "        tokenizer = LlamaTokenizer.from_pretrained(ckpt_dir, use_fast=False, padding_side=\"left\")\n",
    "        \n",
    "        model = LlamaForCausalLM.from_pretrained(ckpt_dir, low_cpu_mem_usage = True, torch_dtype=torch.float16)\n",
    "        model = tp.tensor_parallel(model, [i for i in range(n_gpus)])\n",
    "\n",
    "        tokenizer.pad_token_id = 0 if tokenizer.pad_token_id is None else tokenizer.pad_token_id\n",
    "        tokenizer.bos_token_id = 1\n",
    "    elif model_type == 'flan':\n",
    "        # we use tensor parallel for loading llama\n",
    "\n",
    "        tokenizer = AutoTokenizer.from_pretrained(ckpt_dir, use_fast=False, padding_side=\"left\")\n",
    "        \n",
    "        model = AutoModelForSeq2SeqLM.from_pretrained(ckpt_dir, low_cpu_mem_usage = True, torch_dtype=torch.float16)\n",
    "        model = tp.tensor_parallel(model, [i for i in range(n_gpus)])\n",
    "\n",
    "        tokenizer.pad_token_id = 0 if tokenizer.pad_token_id is None else tokenizer.pad_token_id\n",
    "        tokenizer.bos_token_id = 1\n",
    "    elif model_type == 'falcon':\n",
    "        tokenizer = AutoTokenizer.from_pretrained(ckpt_dir, padding_side=\"left\")\n",
    "        model = AutoModelForCausalLM.from_pretrained(ckpt_dir, device_map = 'balanced_low_0', torch_dtype=torch.bfloat16, trust_remote_code=True)\n",
    "\n",
    "        tokenizer.pad_token_id = 0 if tokenizer.pad_token_id is None else tokenizer.pad_token_id\n",
    "        tokenizer.bos_token_id = 1\n",
    "    elif model_type == 'moss':\n",
    "        \n",
    "        tokenizer = AutoTokenizer.from_pretrained(ckpt_dir, padding_side=\"left\")\n",
    "        config = AutoConfig.from_pretrained(ckpt_dir, trust_remote_code=True)\n",
    "        with init_empty_weights():\n",
    "            model = AutoModelForCausalLM.from_config(config, torch_dtype=torch.float16, trust_remote_code=True)\n",
    "        model.tie_weights()\n",
    "        model = load_checkpoint_and_dispatch(model, model_path, device_map=\"auto\", no_split_module_classes=[\"MossBlock\"], dtype=torch.float16)\n",
    "        \n",
    "        tokenizer.pad_token_id = 0 if tokenizer.pad_token_id is None else tokenizer.pad_token_id\n",
    "        tokenizer.bos_token_id = 1\n",
    "    elif model_type == 'guanaco':\n",
    "\n",
    "\n",
    "\n",
    "        model_name = \"llama-65b\"\n",
    "        adapters_name = 'guanaco-65b'\n",
    "\n",
    "        model = AutoModelForCausalLM.from_pretrained(\n",
    "            model_name,\n",
    "            load_in_4bit=True,\n",
    "            torch_dtype=torch.bfloat16,\n",
    "            device_map=\"auto\",\n",
    "            max_memory= {i: '24000MB' for i in range(torch.cuda.device_count())},\n",
    "            quantization_config=BitsAndBytesConfig(\n",
    "                load_in_4bit=True,\n",
    "                bnb_4bit_compute_dtype=torch.bfloat16,\n",
    "                bnb_4bit_use_double_quant=True,\n",
    "                bnb_4bit_quant_type='nf4'\n",
    "            ),\n",
    "        )\n",
    "        model = PeftModel.from_pretrained(model, adapters_name)\n",
    "        tokenizer = AutoTokenizer.from_pretrained(model_name)\n",
    "\n",
    "\n",
    "    elif model_type == 'vicuna':\n",
    "        \n",
    "        tokenizer = AutoTokenizer.from_pretrained(ckpt_dir, padding_side=\"left\")\n",
    "        model = AutoModelForCausalLM.from_pretrained(ckpt_dir, device_map = 'balanced_low_0', revision=\"main\", trust_remote_code=False)\n",
    "\n",
    "\n",
    "        tokenizer.pad_token_id = 0 if tokenizer.pad_token_id is None else tokenizer.pad_token_id\n",
    "        tokenizer.bos_token_id = 1\n",
    "        \n",
    "    elif model_type == 'starcoder':\n",
    "        \n",
    "        tokenizer = AutoTokenizer.from_pretrained(ckpt_dir, padding_side=\"left\")\n",
    "        model = AutoModelForCausalLM.from_pretrained(ckpt_dir,device_map = 'balanced_low_0', trust_remote_code=True)\n",
    "        tokenizer.pad_token_id = 0 if tokenizer.pad_token_id is None else tokenizer.pad_token_id\n",
    "        tokenizer.bos_token_id = 1\n",
    "        \n",
    "\n",
    "    else:\n",
    "        # mpt-30b's tokenizer only has the fast version\n",
    "        use_fast = \"mosaicml/mpt-30b\" in ckpt_dir\n",
    "        # however, tensor parallel for running falcon will occur bugs\n",
    "        tokenizer = AutoTokenizer.from_pretrained(ckpt_dir, use_fast = use_fast, padding_side=\"left\")\n",
    "        model = AutoModelForCausalLM.from_pretrained(ckpt_dir, device_map = 'balanced_low_0', torch_dtype=torch.bfloat16, trust_remote_code=True)\n",
    "        if tokenizer.pad_token_id is None:\n",
    "            if tokenizer.eos_token_id is not None:\n",
    "                tokenizer.pad_token_id = tokenizer.eos_token_id\n",
    "            else:\n",
    "                tokenizer.pad_token_id = 0\n",
    "\n",
    "\n",
    "    model.eval()\n",
    "\n",
    "    return model, tokenizer\n",
    "\n",
    "def batch_split(prompts, batch_num):\n",
    "    batch_prompts = []\n",
    "    mini_batch = []\n",
    "    for prompt in prompts:\n",
    "        mini_batch.append(prompt)\n",
    "        if len(mini_batch) == batch_num:\n",
    "            batch_prompts.append(mini_batch)\n",
    "            mini_batch = []\n",
    "    if len(mini_batch) != 0:\n",
    "        batch_prompts.append(mini_batch)\n",
    "    return batch_prompts\n",
    "\n",
    "def batch_infer_ensemble(models, tokenizers, prompts):\n",
    "\n",
    "\n",
    "    print('start batch infer')\n",
    "\n",
    "\n",
    "    \n",
    "    batch_size = 8\n",
    "    answers = []\n",
    "    for batch_input in tqdm(batch_split(prompts, batch_size)):\n",
    "\n",
    "        model_scores = []\n",
    "        for model,tokenizer in zip(models,tokenizers):\n",
    "            encode_inputs = prepare_input(tokenizer, batch_input)\n",
    "            outputs = model.generate(\n",
    "                **encode_inputs, \n",
    "                max_new_tokens=1, \n",
    "                pad_token_id=tokenizer.pad_token_id,\n",
    "                return_dict_in_generate=True,\n",
    "                output_scores = True,\n",
    "            )\n",
    "            model_scores.append(outputs.scores[0])\n",
    "        print('start sum scores')\n",
    "        scores = sum(model_scores)\n",
    "        print('end sum scores')\n",
    "\n",
    "        nvm = torch.argmax(scores, axis = 1)\n",
    "\n",
    "        answers.extend(tokenizer.batch_decode(nvm, skip_special_tokens=True))\n",
    "        \n",
    "    answers = [answer[-1] for answer in answers]\n",
    "    return answers\n",
    "\n",
    "def batch_infer(model, tokenizer, prompts):\n",
    "\n",
    "    \n",
    "    batch_size = 8\n",
    "    answers = []\n",
    "    for batch_input in tqdm(batch_split(prompts, batch_size)):\n",
    "\n",
    "        encode_inputs = prepare_input(tokenizer, batch_input)\n",
    "        outputs = model.generate(\n",
    "            **encode_inputs, \n",
    "            max_new_tokens=1, \n",
    "            pad_token_id=tokenizer.pad_token_id,\n",
    "            return_dict_in_generate=True,\n",
    "            output_scores = True,\n",
    "        )        \n",
    "        answers.append(outputs.scores[0].to('cpu'))\n",
    "        \n",
    "    return answers\n",
    "\n",
    "def main(ckpt_dir1: str, \n",
    "         ckpt_dir2: str, \n",
    "         model_type1: str , \n",
    "         model_type2 : str, \n",
    "         param_size: str, \n",
    "         data_dir : str, \n",
    "         ntrain : int ):\n",
    "    \n",
    "    run_results = {}\n",
    "    output_filename = 'run_results_%s_%sb.json' % (model_type1+'+'+model_type2, param_size)\n",
    "\n",
    "    start_time = time.time()\n",
    "\n",
    "    for ckpt_dir, model_type in zip([ckpt_dir1,ckpt_dir2], [model_type1, model_type2]):\n",
    "        \n",
    "        model , tokenizer  =  load(ckpt_dir, model_type)\n",
    "\n",
    "        for task in TASKS:\n",
    "            print('Testing %s ...' % task)\n",
    "            records = []\n",
    "            dev_df = pd.read_csv(os.path.join(data_dir, \"dev\", task + \"_dev.csv\"), header=None)[:ntrain]\n",
    "            test_df = pd.read_csv(os.path.join(data_dir, \"test\", task + \"_test.csv\"), header=None)\n",
    "            for i in range(test_df.shape[0]):\n",
    "                # get prompt and make sure it fits\n",
    "                k = ntrain\n",
    "                prompt_end = format_example(test_df, i, include_answer=False)\n",
    "                train_prompt = gen_prompt(dev_df, task, k)\n",
    "                prompt = train_prompt + prompt_end\n",
    "                label = test_df.iloc[i, test_df.shape[1]-1]\n",
    "                \n",
    "                while any([len(tokenizer.tokenize(prompt)) + 1> 2048 for tokenizer in tokenizers]): # bos token\n",
    "                    prompt_split = prompt.split(\"\\n\\n\")\n",
    "                    popped_answer = prompt_split.pop(1)\n",
    "                    prompt = '\\n\\n'.join(prompt_split)\n",
    "    \n",
    "                    print('THIS PROMPT DROPPED : '+popped_answer + \": GOLD ANSWER : \"+label )\n",
    "    \n",
    "                    \n",
    "                records.append({'prompt':prompt, 'answer':label})\n",
    "    \n",
    "            pred_answers = batch_infer(models, tokenizers, [record['prompt'] for record in records])\n",
    "            gold_answers = [record['answer'] for record in records]\n",
    "            run_results[task] = {'pred_answers':pred_answers, 'gold_answers':gold_answers}\n",
    "\n",
    "\n",
    "        model.to('cpu')\n",
    "\n",
    "        \n",
    "\n",
    "        \n",
    "\n",
    "    model1, tokenizer1 = load(ckpt_dir1, model_type1)\n",
    "    model2, tokenizer2 = load(ckpt_dir2, model_type2)\n",
    "\n",
    "    models = [model1, model2]\n",
    "    tokenizers = [tokenizer1, tokenizer2]\n",
    "    \n",
    "    with open(output_filename, 'w') as f:\n",
    "        json.dump(run_results, f, ensure_ascii=False, indent=2)\n",
    "    \n",
    "    compute_metric(output_filename)\n",
    "    end_time = time.time()\n",
    "    print(\"total run time %.2f\" % (end_time - start_time))\n",
    "    \n",
    "    \n",
    "\n",
    "\n"
   ]
  },
  {
   "cell_type": "code",
   "execution_count": null,
   "id": "03c38564-31b8-4270-9d79-daa19879aa50",
   "metadata": {},
   "outputs": [],
   "source": []
  },
  {
   "cell_type": "code",
   "execution_count": 7,
   "id": "d3d9ea67-6dd7-4018-90b7-ca62c3d07b54",
   "metadata": {},
   "outputs": [
    {
     "data": {
      "text/plain": [
       "'if __name__ == \"__main__\":\\n    parser = Object()\\n    \\n    parser.add_argument(\\'--ckpt_dir1\\', type=str, required=True)\\n    parser.add_argument(\\'--ckpt_dir2\\', type=str, required=True)\\n    parser.add_argument(\\'--param_size\\', type=str, required=True)\\n    parser.add_argument(\\'--model_type1\\', type=str, required=True)\\n    parser.add_argument(\\'--model_type2\\', type=str, required=True)\\n    parser.add_argument(\\'--data_dir\\', type=str, default=\\'data/\\')\\n    parser.add_argument(\\'--ntrain\\', type=int, default=5)\\n    args = parser.parse_args()\\n    \\n    main(args.ckpt_dir1, args.ckpt_dir2, args.param_size, args.model_type)\\n'"
      ]
     },
     "execution_count": 7,
     "metadata": {},
     "output_type": "execute_result"
    }
   ],
   "source": [
    "\"\"\"if __name__ == \"__main__\":\n",
    "    parser = Object()\n",
    "    \n",
    "    parser.add_argument('--ckpt_dir1', type=str, required=True)\n",
    "    parser.add_argument('--ckpt_dir2', type=str, required=True)\n",
    "    parser.add_argument('--param_size', type=str, required=True)\n",
    "    parser.add_argument('--model_type1', type=str, required=True)\n",
    "    parser.add_argument('--model_type2', type=str, required=True)\n",
    "    parser.add_argument('--data_dir', type=str, default='data/')\n",
    "    parser.add_argument('--ntrain', type=int, default=5)\n",
    "    args = parser.parse_args()\n",
    "    \n",
    "    main(args.ckpt_dir1, args.ckpt_dir2, args.param_size, args.model_type)\n",
    "\"\"\""
   ]
  },
  {
   "cell_type": "code",
   "execution_count": 4,
   "id": "d201b7f2-e9a1-4ab4-945c-240075dc9099",
   "metadata": {},
   "outputs": [
    {
     "name": "stderr",
     "output_type": "stream",
     "text": [
      "You are using the default legacy behaviour of the <class 'transformers.models.t5.tokenization_t5.T5Tokenizer'>. If you see this, DO NOT PANIC! This is expected, and simply means that the `legacy` (previous) behavior will be used so nothing changes for you. If you want to use the new behaviour, set `legacy=False`. This should only be set if you understand what it means, and thouroughly read the reason why this was added as explained in https://github.com/huggingface/transformers/pull/24565\n"
     ]
    }
   ],
   "source": [
    "flan_results = torch.load('flanresults.pt')\n",
    "flantokenizer = AutoTokenizer.from_pretrained('flan-t5-xxl', use_fast=False, padding_side=\"left\")\n"
   ]
  },
  {
   "cell_type": "code",
   "execution_count": 5,
   "id": "3b8bfec9-916a-4aff-a3f9-3950a0601146",
   "metadata": {},
   "outputs": [],
   "source": [
    "llama5b_results = torch.load('llama5bresults.pt')\n",
    "llamaTokenizer = LlamaTokenizer.from_pretrained('Llama-2-7b-hf', use_fast=False, padding_side=\"left\")\n"
   ]
  },
  {
   "cell_type": "code",
   "execution_count": 11,
   "id": "7180a941-0295-429f-8860-57d4e4671660",
   "metadata": {},
   "outputs": [],
   "source": [
    "#flan_results\n",
    "llama5b_results = run_results['llama']"
   ]
  },
  {
   "cell_type": "code",
   "execution_count": 7,
   "id": "c705d1e8-abec-432d-b489-99d8325fa79e",
   "metadata": {},
   "outputs": [],
   "source": [
    "#torch.save(run_results['flan'],'flanresults.pt')\n",
    "torch.save(run_results['llama'],'llama5bresults.pt')\n",
    "#run_results"
   ]
  },
  {
   "cell_type": "code",
   "execution_count": null,
   "id": "5bcd2fa3-018d-4e1d-a583-3a1b77691008",
   "metadata": {},
   "outputs": [
    {
     "data": {
      "application/vnd.jupyter.widget-view+json": {
       "model_id": "30860b58b23c4a718cb8d73152272c46",
       "version_major": 2,
       "version_minor": 0
      },
      "text/plain": [
       "Loading checkpoint shards:   0%|          | 0/2 [00:00<?, ?it/s]"
      ]
     },
     "metadata": {},
     "output_type": "display_data"
    },
    {
     "name": "stdout",
     "output_type": "stream",
     "text": [
      "Testing abstract_algebra ...\n"
     ]
    },
    {
     "name": "stderr",
     "output_type": "stream",
     "text": [
      "100%|██████████| 13/13 [00:07<00:00,  1.75it/s]\n"
     ]
    },
    {
     "name": "stdout",
     "output_type": "stream",
     "text": [
      "Testing anatomy ...\n"
     ]
    },
    {
     "name": "stderr",
     "output_type": "stream",
     "text": [
      "100%|██████████| 17/17 [00:09<00:00,  1.84it/s]\n"
     ]
    },
    {
     "name": "stdout",
     "output_type": "stream",
     "text": [
      "Testing astronomy ...\n"
     ]
    },
    {
     "name": "stderr",
     "output_type": "stream",
     "text": [
      "100%|██████████| 19/19 [00:17<00:00,  1.10it/s]\n"
     ]
    },
    {
     "name": "stdout",
     "output_type": "stream",
     "text": [
      "Testing business_ethics ...\n"
     ]
    },
    {
     "name": "stderr",
     "output_type": "stream",
     "text": [
      "100%|██████████| 13/13 [00:11<00:00,  1.16it/s]\n"
     ]
    },
    {
     "name": "stdout",
     "output_type": "stream",
     "text": [
      "Testing clinical_knowledge ...\n"
     ]
    },
    {
     "name": "stderr",
     "output_type": "stream",
     "text": [
      "100%|██████████| 34/34 [00:20<00:00,  1.63it/s]\n"
     ]
    },
    {
     "name": "stdout",
     "output_type": "stream",
     "text": [
      "Testing college_biology ...\n"
     ]
    },
    {
     "name": "stderr",
     "output_type": "stream",
     "text": [
      "100%|██████████| 18/18 [00:13<00:00,  1.30it/s]\n"
     ]
    },
    {
     "name": "stdout",
     "output_type": "stream",
     "text": [
      "Testing college_chemistry ...\n"
     ]
    },
    {
     "name": "stderr",
     "output_type": "stream",
     "text": [
      "100%|██████████| 13/13 [00:10<00:00,  1.22it/s]\n"
     ]
    },
    {
     "name": "stdout",
     "output_type": "stream",
     "text": [
      "Testing college_computer_science ...\n"
     ]
    },
    {
     "name": "stderr",
     "output_type": "stream",
     "text": [
      "100%|██████████| 13/13 [00:15<00:00,  1.22s/it]\n"
     ]
    },
    {
     "name": "stdout",
     "output_type": "stream",
     "text": [
      "Testing college_mathematics ...\n"
     ]
    },
    {
     "name": "stderr",
     "output_type": "stream",
     "text": [
      "100%|██████████| 13/13 [00:10<00:00,  1.22it/s]\n"
     ]
    },
    {
     "name": "stdout",
     "output_type": "stream",
     "text": [
      "Testing college_medicine ...\n"
     ]
    },
    {
     "name": "stderr",
     "output_type": "stream",
     "text": [
      "100%|██████████| 22/22 [00:24<00:00,  1.10s/it]\n"
     ]
    },
    {
     "name": "stdout",
     "output_type": "stream",
     "text": [
      "Testing college_physics ...\n"
     ]
    },
    {
     "name": "stderr",
     "output_type": "stream",
     "text": [
      "100%|██████████| 13/13 [00:09<00:00,  1.41it/s]\n"
     ]
    },
    {
     "name": "stdout",
     "output_type": "stream",
     "text": [
      "Testing computer_security ...\n"
     ]
    },
    {
     "name": "stderr",
     "output_type": "stream",
     "text": [
      "100%|██████████| 13/13 [00:07<00:00,  1.71it/s]\n"
     ]
    },
    {
     "name": "stdout",
     "output_type": "stream",
     "text": [
      "Testing conceptual_physics ...\n"
     ]
    },
    {
     "name": "stderr",
     "output_type": "stream",
     "text": [
      "100%|██████████| 30/30 [00:12<00:00,  2.37it/s]\n"
     ]
    },
    {
     "name": "stdout",
     "output_type": "stream",
     "text": [
      "Testing econometrics ...\n"
     ]
    },
    {
     "name": "stderr",
     "output_type": "stream",
     "text": [
      "100%|██████████| 15/15 [00:13<00:00,  1.12it/s]\n"
     ]
    },
    {
     "name": "stdout",
     "output_type": "stream",
     "text": [
      "Testing electrical_engineering ...\n"
     ]
    },
    {
     "name": "stderr",
     "output_type": "stream",
     "text": [
      "100%|██████████| 19/19 [00:11<00:00,  1.65it/s]\n"
     ]
    },
    {
     "name": "stdout",
     "output_type": "stream",
     "text": [
      "Testing elementary_mathematics ...\n"
     ]
    },
    {
     "name": "stderr",
     "output_type": "stream",
     "text": [
      "100%|██████████| 48/48 [00:38<00:00,  1.26it/s]\n"
     ]
    },
    {
     "name": "stdout",
     "output_type": "stream",
     "text": [
      "Testing formal_logic ...\n"
     ]
    },
    {
     "name": "stderr",
     "output_type": "stream",
     "text": [
      "100%|██████████| 16/16 [00:14<00:00,  1.07it/s]\n"
     ]
    },
    {
     "name": "stdout",
     "output_type": "stream",
     "text": [
      "Testing global_facts ...\n"
     ]
    },
    {
     "name": "stderr",
     "output_type": "stream",
     "text": [
      "100%|██████████| 13/13 [00:07<00:00,  1.64it/s]\n"
     ]
    },
    {
     "name": "stdout",
     "output_type": "stream",
     "text": [
      "Testing high_school_biology ...\n"
     ]
    },
    {
     "name": "stderr",
     "output_type": "stream",
     "text": [
      "100%|██████████| 39/39 [00:31<00:00,  1.23it/s]\n"
     ]
    },
    {
     "name": "stdout",
     "output_type": "stream",
     "text": [
      "Testing high_school_chemistry ...\n"
     ]
    },
    {
     "name": "stderr",
     "output_type": "stream",
     "text": [
      "100%|██████████| 26/26 [00:19<00:00,  1.31it/s]\n"
     ]
    },
    {
     "name": "stdout",
     "output_type": "stream",
     "text": [
      "Testing high_school_computer_science ...\n"
     ]
    },
    {
     "name": "stderr",
     "output_type": "stream",
     "text": [
      "100%|██████████| 13/13 [00:18<00:00,  1.42s/it]\n"
     ]
    },
    {
     "name": "stdout",
     "output_type": "stream",
     "text": [
      "Testing high_school_european_history ...\n"
     ]
    },
    {
     "name": "stderr",
     "output_type": "stream",
     "text": [
      "100%|██████████| 21/21 [01:01<00:00,  2.91s/it]\n"
     ]
    },
    {
     "name": "stdout",
     "output_type": "stream",
     "text": [
      "Testing high_school_geography ...\n"
     ]
    },
    {
     "name": "stderr",
     "output_type": "stream",
     "text": [
      "100%|██████████| 25/25 [00:14<00:00,  1.78it/s]\n"
     ]
    },
    {
     "name": "stdout",
     "output_type": "stream",
     "text": [
      "Testing high_school_government_and_politics ...\n"
     ]
    },
    {
     "name": "stderr",
     "output_type": "stream",
     "text": [
      "100%|██████████| 25/25 [00:17<00:00,  1.46it/s]\n"
     ]
    },
    {
     "name": "stdout",
     "output_type": "stream",
     "text": [
      "Testing high_school_macroeconomics ...\n"
     ]
    },
    {
     "name": "stderr",
     "output_type": "stream",
     "text": [
      "100%|██████████| 49/49 [00:29<00:00,  1.68it/s]\n"
     ]
    },
    {
     "name": "stdout",
     "output_type": "stream",
     "text": [
      "Testing high_school_mathematics ...\n"
     ]
    },
    {
     "name": "stderr",
     "output_type": "stream",
     "text": [
      "100%|██████████| 34/34 [00:25<00:00,  1.32it/s]\n"
     ]
    },
    {
     "name": "stdout",
     "output_type": "stream",
     "text": [
      "Testing high_school_microeconomics ...\n"
     ]
    },
    {
     "name": "stderr",
     "output_type": "stream",
     "text": [
      "100%|██████████| 30/30 [00:18<00:00,  1.66it/s]\n"
     ]
    },
    {
     "name": "stdout",
     "output_type": "stream",
     "text": [
      "Testing high_school_physics ...\n"
     ]
    },
    {
     "name": "stderr",
     "output_type": "stream",
     "text": [
      "100%|██████████| 19/19 [00:16<00:00,  1.18it/s]\n"
     ]
    },
    {
     "name": "stdout",
     "output_type": "stream",
     "text": [
      "Testing high_school_psychology ...\n"
     ]
    },
    {
     "name": "stderr",
     "output_type": "stream",
     "text": [
      " 10%|█         | 7/69 [00:05<00:51,  1.21it/s]"
     ]
    }
   ],
   "source": [
    "#ckpt_dir1 = 'falcon-40b'\n",
    "ckpt_dir1 = 'Llama-2-7b-hf'\n",
    "\n",
    "\n",
    "param_size = '40 + 35'\n",
    "\n",
    "#model_type1 = 'falcon'\n",
    "model_type1 = 'llama'\n",
    "data_dir = 'data/'\n",
    "ntrain = 5\n",
    "\n",
    "\n",
    "\n",
    "\n",
    "run_results = {}\n",
    "output_filename = 'run_results_%s_%sb.json' % (model_type1, param_size)\n",
    "\n",
    "start_time = time.time()\n",
    "\n",
    "for ckpt_dir, model_type in zip([ckpt_dir1], [model_type1]):\n",
    "\n",
    "    \n",
    "    \n",
    "    model , tokenizer  =  load(ckpt_dir, model_type)\n",
    "    run_results[model_type] = {}\n",
    "\n",
    "    for task in TASKS:\n",
    "        print('Testing %s ...' % task)\n",
    "        records = []\n",
    "        dev_df = pd.read_csv(os.path.join(data_dir, \"dev\", task + \"_dev.csv\"), header=None)[:ntrain]\n",
    "        test_df = pd.read_csv(os.path.join(data_dir, \"test\", task + \"_test.csv\"), header=None)\n",
    "        for i in range(test_df.shape[0]):\n",
    "            # get prompt and make sure it fits\n",
    "            k = ntrain\n",
    "            prompt_end = format_example(test_df, i, include_answer=False)\n",
    "            train_prompt = gen_prompt(dev_df, task, k)\n",
    "            prompt = train_prompt + prompt_end\n",
    "            label = test_df.iloc[i, test_df.shape[1]-1]\n",
    "            \n",
    "            while len(tokenizer.tokenize(prompt)) + 1 > 2048: # bos token\n",
    "                prompt_split = prompt.split(\"\\n\\n\")\n",
    "                popped_answer = prompt_split.pop(1)\n",
    "                prompt = '\\n\\n'.join(prompt_split)\n",
    "\n",
    "                #print('THIS PROMPT DROPPED : '+popped_answer + \": GOLD ANSWER : \"+label )\n",
    "\n",
    "                \n",
    "            records.append({'prompt':prompt, 'answer':label})\n",
    "\n",
    "        pred_answers = batch_infer(model, tokenizer, [record['prompt'] for record in records])\n",
    "        gold_answers = [record['answer'] for record in records]\n",
    "        run_results[model_type][task] = {'pred_answers':pred_answers, 'gold_answers':gold_answers}\n",
    "\n",
    "\n",
    "    model.to('cpu')\n",
    "\n",
    "    \n",
    "\n",
    "torch.save(run_results['falcon'],'falconresults.pt')\n",
    "\n",
    "\n"
   ]
  },
  {
   "cell_type": "code",
   "execution_count": 18,
   "id": "75813e75-877e-4903-90fe-c27affff08e1",
   "metadata": {},
   "outputs": [
    {
     "data": {
      "text/plain": [
       "tensor([205, 272, 205, 272, 272, 272,  71, 272], device='cuda:0')"
      ]
     },
     "execution_count": 18,
     "metadata": {},
     "output_type": "execute_result"
    }
   ],
   "source": [
    "torch.argmax(flan_results['abstract_algebra']['pred_answers'][0], axis = 1)"
   ]
  },
  {
   "cell_type": "code",
   "execution_count": 11,
   "id": "1530eb83-dac5-4b4e-85fa-f0a0aef44d62",
   "metadata": {},
   "outputs": [],
   "source": [
    "flan_resultscpu = {subject:[res.to('cpu') for res in results['pred_answers']] for subject, results in flan_results.items()}"
   ]
  },
  {
   "cell_type": "code",
   "execution_count": null,
   "id": "26bf7def-93a4-45cf-a67f-501284ad3178",
   "metadata": {},
   "outputs": [],
   "source": []
  },
  {
   "cell_type": "code",
   "execution_count": null,
   "id": "51d30767-77d1-4292-bfce-83355dc89aeb",
   "metadata": {},
   "outputs": [],
   "source": [
    "x  = flan_resultscpu['abstract_algebra'][0][:,[71,272,205,309]]+llama5b_results['abstract_algebra']['pred_answers'][0][:,[319,350,316,360]]\n",
    "torch.argmax(x)"
   ]
  },
  {
   "cell_type": "code",
   "execution_count": 62,
   "id": "4f4011e4-cbc2-4004-a0a0-4a1877adc7dc",
   "metadata": {},
   "outputs": [
    {
     "data": {
      "text/plain": [
       "['B', 'B', 'B', 'B', 'B', 'B', 'A', 'B']"
      ]
     },
     "execution_count": 62,
     "metadata": {},
     "output_type": "execute_result"
    }
   ],
   "source": [
    "tokens = []\n",
    "for v in torch.argmax(x,axis = 1):\n",
    "    if v==0:\n",
    "        tokens.append('A')\n",
    "    if v==1:\n",
    "        tokens.append('B')\n",
    "    if v==2:\n",
    "        tokens.append('C')\n",
    "    if v==3:\n",
    "        tokens.append('D')\n",
    "        \n",
    "tokens\n"
   ]
  },
  {
   "cell_type": "code",
   "execution_count": 67,
   "id": "09112625-ea36-45a5-a38c-c8c104edb9de",
   "metadata": {},
   "outputs": [
    {
     "data": {
      "text/plain": [
       "tensor([[25.8281, 25.6094,  9.6406, 25.4219],\n",
       "        [25.6719, 24.4531,  9.5859, 24.5000],\n",
       "        [25.3594, 24.9375,  9.9375, 24.7031],\n",
       "        [24.3906, 24.3906,  9.3906, 23.6875],\n",
       "        [25.5000, 25.8906,  9.9844, 24.3438],\n",
       "        [25.6094, 25.3750,  9.8594, 24.9062],\n",
       "        [25.2031, 24.8281, 10.0938, 24.4531],\n",
       "        [23.6562, 23.5000,  9.6719, 25.4062]])"
      ]
     },
     "execution_count": 67,
     "metadata": {},
     "output_type": "execute_result"
    }
   ],
   "source": [
    "flantokenizer"
   ]
  },
  {
   "cell_type": "code",
   "execution_count": 83,
   "id": "b7a01dd2-f0dd-445b-b92f-25142622344d",
   "metadata": {},
   "outputs": [
    {
     "data": {
      "text/plain": [
       "['D', 'B', 'D', 'D', 'D', 'D', 'A', 'A']"
      ]
     },
     "execution_count": 83,
     "metadata": {},
     "output_type": "execute_result"
    }
   ],
   "source": [
    "flantokenizer.batch_decode(torch.argmax(flan_resultscpu[task][0], axis = 1 ))#[:,[71,272,205,309]]\n"
   ]
  },
  {
   "cell_type": "code",
   "execution_count": 87,
   "id": "d15e0029-4ec3-40b9-9547-11a279b07c6d",
   "metadata": {},
   "outputs": [
    {
     "name": "stdout",
     "output_type": "stream",
     "text": [
      "tensor([-5.3047, -5.4336, -5.4922,  1.4160], dtype=torch.float16)\n",
      "tensor([-0.3359,  0.4375, -2.9141, -4.3359], dtype=torch.float16)\n",
      "tensor([-1.6602, -1.9297, -0.4414,  0.0781], dtype=torch.float16)\n",
      "tensor([-1.3359, -3.8008, -4.8281,  1.2266], dtype=torch.float16)\n",
      "tensor([-8.6562, -7.2656, -7.4648,  0.7969], dtype=torch.float16)\n",
      "tensor([ 0.1816, -0.1172, -2.9297,  0.7148], dtype=torch.float16)\n",
      "tensor([ 0.8301, -4.5117, -0.1250, -3.1758], dtype=torch.float16)\n",
      "tensor([ 0.7656, -8.3516, -8.5312, -6.5742], dtype=torch.float16)\n"
     ]
    }
   ],
   "source": [
    "for v in flan_resultscpu[task][0]:\n",
    "    print(v[[71,272,205,309]])"
   ]
  },
  {
   "cell_type": "code",
   "execution_count": 147,
   "id": "a20bb7af-a9cf-462e-a290-b1368837d0c5",
   "metadata": {},
   "outputs": [],
   "source": [
    "all_answer_values = {}\n",
    "for task in llama5b_results:\n",
    "\n",
    "    all_answer_values_task = []\n",
    "    for batch in llama5b_results[task]['pred_answers']:\n",
    "        for answer_val in batch:\n",
    "            all_answer_values_task.append(answer_val[[319,350,316,360]])\n",
    "\n",
    "        \n",
    "    all_answer_values[task] = all_answer_values_task\n",
    "        \n",
    "        \n",
    "\n",
    "    \n",
    "    \n",
    "    "
   ]
  },
  {
   "cell_type": "code",
   "execution_count": null,
   "id": "cfa0ef14-c2c8-4c37-be06-4e16b2c506f7",
   "metadata": {},
   "outputs": [],
   "source": []
  },
  {
   "cell_type": "code",
   "execution_count": null,
   "id": "bf86cb9c-3a62-49c9-9b91-6385611964fd",
   "metadata": {},
   "outputs": [],
   "source": []
  },
  {
   "cell_type": "code",
   "execution_count": 148,
   "id": "0c50951d-5197-4119-bee5-e9968d638b5c",
   "metadata": {},
   "outputs": [],
   "source": [
    "analysis_df_llama = []\n",
    "\n",
    "def gold_to_idx(gold):\n",
    "    if gold == 'A':\n",
    "        return 0\n",
    "    if gold == 'B':\n",
    "        return 1\n",
    "    if gold == 'C':\n",
    "        return 2\n",
    "    if gold == 'D':\n",
    "        return 3\n",
    "\n",
    "for task in flan_resultscpu:\n",
    "    for answer_val , gold in zip(all_answer_values[task], llama5b_results[task]['gold_answers']):\n",
    "\n",
    "        ranked_idx = torch.topk( answer_val.to(torch.float32) , 4).indices\n",
    "\n",
    "        llama5b_results\n",
    "        \n",
    "        \n",
    "\n",
    "        analysis_df_llama.append({\n",
    "            'model' : 'llama',\n",
    "            'task' : task,\n",
    "            'gold' : gold,\n",
    "            'gold_idx':gold_to_idx(gold),\n",
    "            'is_correct':gold_to_idx(gold) == torch.argmax(answer_val).item(),\n",
    "            'top_idx' : torch.argmax(answer_val).item(), \n",
    "            'top_val':torch.max(answer_val).item(),\n",
    "            'gold_val': answer_val[gold_to_idx(gold)].item(),\n",
    "            'second_idx' : ranked_idx[1].item(),\n",
    "            'second_val' : answer_val[ranked_idx[1].item()].item(),\n",
    "            'third_idx' : ranked_idx[2].item(),\n",
    "            'third_val' : answer_val[ranked_idx[2].item()].item(),\n",
    "            'fourth_idx' : ranked_idx[3].item(),\n",
    "            'fourth_val' : answer_val[ranked_idx[3].item()].item(),\n",
    "            })\n",
    "analysis_df_llama = pd.DataFrame(analysis_df_llama)\n",
    "        \n",
    "\n"
   ]
  },
  {
   "cell_type": "code",
   "execution_count": 109,
   "id": "bec185cf-66f4-4d50-bf2d-6941f6103ff0",
   "metadata": {
    "scrolled": true
   },
   "outputs": [
    {
     "data": {
      "text/plain": [
       "\"analysis_df = []\\n\\ndef gold_to_idx(gold):\\n    if gold == 'A':\\n        return 0\\n    if gold == 'B':\\n        return 1\\n    if gold == 'C':\\n        return 2\\n    if gold == 'D':\\n        return 3\\n\\nfor task in flan_resultscpu:\\n    for answer_val , gold in zip(all_answer_values[task], llama5b_results[task]['gold_answers']):\\n\\n        ranked_idx = torch.topk( answer_val.to(torch.float32) , 4).indices\\n        \\n        \\n\\n        analysis_df.append({\\n            'task' : task,\\n            'gold' : gold,\\n            'gold_idx':gold_to_idx(gold),\\n            'is_correct':gold_to_idx(gold) == torch.argmax(answer_val).item(),\\n            'top_idx' : torch.argmax(answer_val).item(), \\n            'top_val':torch.max(answer_val).item(),\\n            'gold_val': answer_val[gold_to_idx(gold)].item(),\\n            'second_idx' : ranked_idx[1].item(),\\n            'second_val' : answer_val[ranked_idx[1].item()].item(),\\n            'third_idx' : ranked_idx[2].item(),\\n            'third_val' : answer_val[ranked_idx[2].item()].item(),\\n            'fourth_idx' : ranked_idx[3].item(),\\n            'fourth_val' : answer_val[ranked_idx[3].item()].item(),\\n            })\\n\\n        \\n\\n\""
      ]
     },
     "execution_count": 109,
     "metadata": {},
     "output_type": "execute_result"
    }
   ],
   "source": [
    "analysis_df = []\n",
    "\n",
    "def gold_to_idx(gold):\n",
    "    if gold == 'A':\n",
    "        return 0\n",
    "    if gold == 'B':\n",
    "        return 1\n",
    "    if gold == 'C':\n",
    "        return 2\n",
    "    if gold == 'D':\n",
    "        return 3\n",
    "\n",
    "for task in flan_resultscpu:\n",
    "    for answer_val , gold in zip(all_answer_values[task], llama5b_results[task]['gold_answers']):\n",
    "\n",
    "        ranked_idx = torch.topk( answer_val.to(torch.float32) , 4).indices\n",
    "        \n",
    "        \n",
    "\n",
    "        analysis_df.append({\n",
    "            'task' : task,\n",
    "            'gold' : gold,\n",
    "            'gold_idx':gold_to_idx(gold),\n",
    "            'is_correct':gold_to_idx(gold) == torch.argmax(answer_val).item(),\n",
    "            'top_idx' : torch.argmax(answer_val).item(), \n",
    "            'top_val':torch.max(answer_val).item(),\n",
    "            'gold_val': answer_val[gold_to_idx(gold)].item(),\n",
    "            'second_idx' : ranked_idx[1].item(),\n",
    "            'second_val' : answer_val[ranked_idx[1].item()].item(),\n",
    "            'third_idx' : ranked_idx[2].item(),\n",
    "            'third_val' : answer_val[ranked_idx[2].item()].item(),\n",
    "            'fourth_idx' : ranked_idx[3].item(),\n",
    "            'fourth_val' : answer_val[ranked_idx[3].item()].item(),\n",
    "            })\n",
    "\n",
    "        \n",
    "\n"
   ]
  },
  {
   "cell_type": "code",
   "execution_count": 108,
   "id": "5856ed07-0315-41b4-8a53-4132983ffb37",
   "metadata": {},
   "outputs": [],
   "source": [
    "        \n",
    "\n",
    "        llama5b_results\n",
    "        \n",
    "        \n",
    "\n",
    "        analysis_df_llama.append({\n",
    "            'model' : 'llama',\n",
    "            'task' : task,\n",
    "            'gold' : gold,\n",
    "            'gold_idx':gold_to_idx(gold),\n",
    "            'is_correct':gold_to_idx(gold) == torch.argmax(answer_val).item(),\n",
    "            'top_idx' : torch.argmax(answer_val).item(), \n",
    "            'top_val':torch.max(answer_val).item(),\n",
    "            'gold_val': answer_val[gold_to_idx(gold)].item(),\n",
    "            'second_idx' : ranked_idx[1].item(),\n",
    "            'second_val' : answer_val[ranked_idx[1].item()].item(),\n",
    "            'third_idx' : ranked_idx[2].item(),\n",
    "            'third_val' : answer_val[ranked_idx[2].item()].item(),\n",
    "            'fourth_idx' : ranked_idx[3].item(),\n",
    "            'fourth_val' : answer_val[ranked_idx[3].item()].item(),\n",
    "            })\n",
    "analysis_df_llama = pd.DataFrame(analysis_df_llama)\n"
   ]
  },
  {
   "cell_type": "code",
   "execution_count": 174,
   "id": "d5c1862d-6ab7-41e2-84b3-ef827b8f5de5",
   "metadata": {},
   "outputs": [
    {
     "data": {
      "text/plain": [
       "tensor([3, 1, 3, 3, 3, 3, 0, 0])"
      ]
     },
     "execution_count": 174,
     "metadata": {},
     "output_type": "execute_result"
    }
   ],
   "source": [
    "answer_val2 = flan_resultscpu[task][0][:,[71,272,205,309]]\n",
    "\n",
    "top_idx2 = torch.topk( answer_val.to(torch.float32) , 4).indices\n",
    "top_val2 = torch.topk( answer_val.to(torch.float32) , 4).values\n",
    "top_idx2[:,0]"
   ]
  },
  {
   "cell_type": "code",
   "execution_count": 203,
   "id": "d56f91f8-eed2-42a8-ad91-bc026ca723ce",
   "metadata": {},
   "outputs": [
    {
     "name": "stdout",
     "output_type": "stream",
     "text": [
      "no\n"
     ]
    }
   ],
   "source": []
  },
  {
   "cell_type": "code",
   "execution_count": 193,
   "id": "9c79be88-c4ea-4fd9-bcf2-9edfab9a8e90",
   "metadata": {},
   "outputs": [
    {
     "name": "stdout",
     "output_type": "stream",
     "text": [
      "(tensor([23.4531, 24.7812, 10.4219, 22.0156]), tensor([-4.5039,  0.9727, -2.5293, -5.4297], dtype=torch.float16))\n",
      "(tensor([24.3594, 25.2188,  9.7344, 23.7500]), tensor([-4.8398,  0.6328, -1.4844, -2.7695], dtype=torch.float16))\n",
      "(tensor([25.0469, 23.7031,  8.6016, 23.5625]), tensor([-0.0195, -0.7012,  1.6777, -1.0703], dtype=torch.float16))\n"
     ]
    }
   ],
   "source": [
    "for answer_val1 , answer_val2 in zip(batch1[:,[319,350,316,360]], batch2[:,[71,272,205,309]]):\n",
    "    print((answer_val1 , answer_val2))\n"
   ]
  },
  {
   "cell_type": "code",
   "execution_count": 206,
   "id": "d025d757-74b9-4138-934f-ce4566469b60",
   "metadata": {},
   "outputs": [],
   "source": [
    "#flan_resultscpu['abstract_algebra'][0][:,[71,272,205,309]]+llama5b_results['abstract_algebra']['pred_answers'][0][:,[319,350,316,360]]\n",
    "\n",
    "\n",
    "\n",
    "llama5b_flan_sum_results_overall = {}\n",
    "\n",
    "flan_weight = 6\n",
    "for task in llama5b_results.keys():\n",
    "    results = []\n",
    "    for batch1, batch2 in zip(llama5b_results[task]['pred_answers'],flan_resultscpu[task]):\n",
    "        answer_val1 = batch1[:,[319,350,316,360]]\n",
    "        answer_val2 = batch2[:,[71,272,205,309]]\n",
    "        tokens = []\n",
    "\n",
    "        for answer_val1 , answer_val2 in zip(batch1[:,[319,350,316,360]], batch2[:,[71,272,205,309]]):\n",
    "            top_val1 = torch.topk( answer_val1.to(torch.float32) , 4)\n",
    "            top_val2 = torch.topk( answer_val2.to(torch.float32) , 4)\n",
    "\n",
    "            is_confident1 = top_val1.values[0] - top_val1.values[1]  > 2\n",
    "            is_confident2 = top_val2.values[0] - top_val2.values[1]  > 2\n",
    "\n",
    "            if is_confident1:\n",
    "                idx = torch.argmax(answer_val1).item()\n",
    "            elif is_confident2:\n",
    "                idx = torch.argmax(answer_val2).item()\n",
    "            else :\n",
    "                idx = torch.argmax(answer_val1).item()\n",
    "\n",
    "            if idx==0:\n",
    "                tokens.append('A')\n",
    "            elif idx==1:\n",
    "                tokens.append('B')\n",
    "            elif idx==2:\n",
    "                tokens.append('C')\n",
    "            elif idx==3:\n",
    "                tokens.append('D')\n",
    "            else:\n",
    "                print('error')\n",
    "                assert 0\n",
    "\n",
    "        results.extend(tokens)\n",
    "    llama5b_flan_sum_results_overall[task] = results"
   ]
  },
  {
   "cell_type": "code",
   "execution_count": 49,
   "id": "8212372f-a249-4aa2-9378-e3ad3d452e26",
   "metadata": {},
   "outputs": [
    {
     "name": "stdout",
     "output_type": "stream",
     "text": [
      "tensor([350, 350, 319, 315, 350, 360, 350, 319])\n"
     ]
    },
    {
     "data": {
      "text/plain": [
       "['B', 'B', 'A', 'C', 'B', 'D', 'B', 'A']"
      ]
     },
     "execution_count": 49,
     "metadata": {},
     "output_type": "execute_result"
    }
   ],
   "source": [
    "print(torch.argmax(llama5b_results['abstract_algebra']['pred_answers'][1], axis = 1))\n",
    "llamaTokenizer.batch_decode(torch.argmax(llama5b_results['abstract_algebra']['pred_answers'][1],axis = 1))\n",
    "# 350 -> \"B\" , 319 -> \"A\" , 315 -> \"C\", 360 -> \"D\""
   ]
  },
  {
   "cell_type": "code",
   "execution_count": 41,
   "id": "8e0429ac-cea7-4c15-aace-a9d1c0179556",
   "metadata": {},
   "outputs": [],
   "source": [
    "llama5b_results_overall = {}\n",
    "for task in llama5b_results.keys():\n",
    "    results = []\n",
    "    for batch in llama5b_results[task]['pred_answers']:\n",
    "        results.extend(llamaTokenizer.batch_decode(torch.argmax(batch,axis = 1)))\n",
    "    llama5b_results_overall[task] = results"
   ]
  },
  {
   "cell_type": "code",
   "execution_count": 34,
   "id": "d19cbf84-e323-4b38-8089-6b00ca3bb9f0",
   "metadata": {},
   "outputs": [],
   "source": [
    "flan_resultscpu_overall = {}\n",
    "for task in flan_resultscpu.keys():\n",
    "    results = []\n",
    "    for batch in flan_resultscpu[task]:\n",
    "        results.extend(flantokenizer.batch_decode(torch.argmax(batch,axis = 1)))\n",
    "    flan_resultscpu_overall[task] = results\n",
    "    "
   ]
  },
  {
   "cell_type": "code",
   "execution_count": null,
   "id": "b4f3c2eb-7bad-49df-81e2-8fa119024172",
   "metadata": {},
   "outputs": [],
   "source": []
  },
  {
   "cell_type": "code",
   "execution_count": 207,
   "id": "a30e2e6d-1266-4d7d-b44e-fa0ab0926f5a",
   "metadata": {},
   "outputs": [
    {
     "name": "stdout",
     "output_type": "stream",
     "text": [
      "ACC-abstract_algebra: 0.2900\n",
      "ACC-anatomy: 0.4519\n",
      "ACC-astronomy: 0.4605\n",
      "ACC-business_ethics: 0.6800\n",
      "ACC-clinical_knowledge: 0.5660\n",
      "ACC-college_biology: 0.4722\n",
      "ACC-college_chemistry: 0.4000\n",
      "ACC-college_computer_science: 0.3500\n",
      "ACC-college_mathematics: 0.3200\n",
      "ACC-college_medicine: 0.4798\n",
      "ACC-college_physics: 0.2255\n",
      "ACC-computer_security: 0.5800\n",
      "ACC-conceptual_physics: 0.4723\n",
      "ACC-econometrics: 0.2807\n",
      "ACC-electrical_engineering: 0.4897\n",
      "ACC-elementary_mathematics: 0.2804\n",
      "ACC-formal_logic: 0.3095\n",
      "ACC-global_facts: 0.3100\n",
      "ACC-high_school_biology: 0.6323\n",
      "ACC-high_school_chemistry: 0.3547\n",
      "ACC-high_school_computer_science: 0.4800\n",
      "ACC-high_school_european_history: 0.7394\n",
      "ACC-high_school_geography: 0.6566\n",
      "ACC-high_school_government_and_politics: 0.7720\n",
      "ACC-high_school_macroeconomics: 0.5282\n",
      "ACC-high_school_mathematics: 0.2741\n",
      "ACC-high_school_microeconomics: 0.5336\n",
      "ACC-high_school_physics: 0.3179\n",
      "ACC-high_school_psychology: 0.7560\n",
      "ACC-high_school_statistics: 0.3657\n",
      "ACC-high_school_us_history: 0.6569\n",
      "ACC-high_school_world_history: 0.7384\n",
      "ACC-human_aging: 0.6099\n",
      "ACC-human_sexuality: 0.5878\n",
      "ACC-international_law: 0.6529\n",
      "ACC-jurisprudence: 0.6944\n",
      "ACC-logical_fallacies: 0.6258\n",
      "ACC-machine_learning: 0.3750\n",
      "ACC-management: 0.6893\n",
      "ACC-marketing: 0.7735\n",
      "ACC-medical_genetics: 0.5500\n",
      "ACC-miscellaneous: 0.7114\n",
      "ACC-moral_disputes: 0.5723\n",
      "ACC-moral_scenarios: 0.2391\n",
      "ACC-nutrition: 0.5817\n",
      "ACC-philosophy: 0.5627\n",
      "ACC-prehistory: 0.5463\n",
      "ACC-professional_accounting: 0.3759\n",
      "ACC-professional_law: 0.3937\n",
      "ACC-professional_medicine: 0.5331\n",
      "ACC-professional_psychology: 0.4869\n",
      "ACC-public_relations: 0.5727\n",
      "ACC-security_studies: 0.6286\n",
      "ACC-sociology: 0.6965\n",
      "ACC-us_foreign_policy: 0.7000\n",
      "ACC-virology: 0.4699\n",
      "ACC-world_religions: 0.7135\n",
      "ACC-all: 0.5110\n"
     ]
    }
   ],
   "source": [
    "total_acc = 0\n",
    "\n",
    "total_num = 0\n",
    "for task in flan_resultscpu_overall:\n",
    "    acc = 0\n",
    "    ensemble_answers = llama5b_flan_sum_results_overall[task]\n",
    "\n",
    "    gold_answers = llama5b_results[task]['gold_answers']\n",
    "    for pred, gold in zip(ensemble_answers, gold_answers):\n",
    "        if (pred == gold):\n",
    "            acc += 1\n",
    "    print(\"ACC-%s: %.4f\" % (task, acc/len(gold_answers)))\n",
    "    total_acc += acc\n",
    "\n",
    "    total_num += len(gold_answers)\n",
    "print(\"ACC-all: %.4f\" % (total_acc/total_num))\n"
   ]
  },
  {
   "cell_type": "code",
   "execution_count": 45,
   "id": "3116d9aa-2caa-4c8d-8ab3-fc603ed7b50a",
   "metadata": {},
   "outputs": [
    {
     "name": "stdout",
     "output_type": "stream",
     "text": [
      "ACC-all-union: 0.6703\n",
      "ACC-all-union: 0.3334\n"
     ]
    }
   ],
   "source": [
    "total_union_acc = 0\n",
    "total_intersection_acc = 0\n",
    "total_num = 0\n",
    "for task in flan_resultscpu_overall:\n",
    "    union_acc = 0\n",
    "    intersection_acc = 0\n",
    "    flan_pred_answers = flan_resultscpu_overall[task]\n",
    "    llama_pred_answers = llama5b_results_overall[task]\n",
    "    gold_answers = llama5b_results[task]['gold_answers']\n",
    "    for flan_pred, llama_pred, gold in zip(flan_pred_answers,llama_pred_answers, gold_answers):\n",
    "        if (flan_pred == gold) or (llama_pred == gold):\n",
    "            union_acc += 1\n",
    "\n",
    "        if (flan_pred == gold) and (llama_pred == gold):\n",
    "            intersection_acc += 1\n",
    "    #print(\"ACC-%s: %.4f\" % (task, acc/len(gold_answers)))\n",
    "    total_union_acc += union_acc\n",
    "    total_intersection_acc += intersection_acc\n",
    "    total_num += len(gold_answers)\n",
    "print(\"ACC-all-union: %.4f\" % (total_union_acc/total_num))\n",
    "print(\"ACC-all-union: %.4f\" % (total_intersection_acc/total_num))\n"
   ]
  },
  {
   "cell_type": "code",
   "execution_count": 123,
   "id": "f2cb7287-1160-4692-96f4-f3ecd77bdd09",
   "metadata": {},
   "outputs": [
    {
     "name": "stdout",
     "output_type": "stream",
     "text": [
      "ACC-abstract_algebra: 0.2200\n",
      "ACC-anatomy: 0.4741\n",
      "ACC-astronomy: 0.5855\n",
      "ACC-business_ethics: 0.6700\n",
      "ACC-clinical_knowledge: 0.6264\n",
      "ACC-college_biology: 0.5139\n",
      "ACC-college_chemistry: 0.3800\n",
      "ACC-college_computer_science: 0.3500\n",
      "ACC-college_mathematics: 0.3300\n",
      "ACC-college_medicine: 0.5202\n",
      "ACC-college_physics: 0.4118\n",
      "ACC-computer_security: 0.6400\n",
      "ACC-conceptual_physics: 0.4468\n",
      "ACC-econometrics: 0.2368\n",
      "ACC-electrical_engineering: 0.5862\n",
      "ACC-elementary_mathematics: 0.3651\n",
      "ACC-formal_logic: 0.2857\n",
      "ACC-global_facts: 0.3700\n",
      "ACC-high_school_biology: 0.6677\n",
      "ACC-high_school_chemistry: 0.3842\n",
      "ACC-high_school_computer_science: 0.4900\n",
      "ACC-high_school_european_history: 0.7879\n",
      "ACC-high_school_geography: 0.7222\n",
      "ACC-high_school_government_and_politics: 0.7927\n",
      "ACC-high_school_macroeconomics: 0.5538\n",
      "ACC-high_school_mathematics: 0.2630\n",
      "ACC-high_school_microeconomics: 0.6008\n",
      "ACC-high_school_physics: 0.2649\n",
      "ACC-high_school_psychology: 0.7945\n",
      "ACC-high_school_statistics: 0.3796\n",
      "ACC-high_school_us_history: 0.7402\n",
      "ACC-high_school_world_history: 0.7384\n",
      "ACC-human_aging: 0.5605\n",
      "ACC-human_sexuality: 0.7023\n",
      "ACC-international_law: 0.7107\n",
      "ACC-jurisprudence: 0.7037\n",
      "ACC-logical_fallacies: 0.6380\n",
      "ACC-machine_learning: 0.3661\n",
      "ACC-management: 0.7379\n",
      "ACC-marketing: 0.8590\n",
      "ACC-medical_genetics: 0.5400\n",
      "ACC-miscellaneous: 0.7203\n",
      "ACC-moral_disputes: 0.6445\n",
      "ACC-moral_scenarios: 0.2804\n",
      "ACC-nutrition: 0.6176\n",
      "ACC-philosophy: 0.5627\n",
      "ACC-prehistory: 0.5802\n",
      "ACC-professional_accounting: 0.4326\n",
      "ACC-professional_law: 0.4316\n",
      "ACC-professional_medicine: 0.5588\n",
      "ACC-professional_psychology: 0.5376\n",
      "ACC-public_relations: 0.6091\n",
      "ACC-security_studies: 0.6939\n",
      "ACC-sociology: 0.7313\n",
      "ACC-us_foreign_policy: 0.7700\n",
      "ACC-virology: 0.4639\n",
      "ACC-world_religions: 0.7135\n",
      "ACC-all: 0.5450\n"
     ]
    }
   ],
   "source": [
    "total_acc = 0\n",
    "\n",
    "total_num = 0\n",
    "for task in flan_resultscpu_overall:\n",
    "    acc = 0\n",
    "    pred_answers = flan_resultscpu_overall[task]\n",
    "\n",
    "    gold_answers = llama5b_results[task]['gold_answers']\n",
    "    for pred, gold in zip(pred_answers, gold_answers):\n",
    "        if (pred == gold):\n",
    "            acc += 1\n",
    "    print(\"ACC-%s: %.4f\" % (task, acc/len(gold_answers)))\n",
    "    total_acc += acc\n",
    "\n",
    "    total_num += len(gold_answers)\n",
    "print(\"ACC-all: %.4f\" % (total_acc/total_num))\n"
   ]
  },
  {
   "cell_type": "code",
   "execution_count": 77,
   "id": "31f85ab5-bfdc-404b-b4c2-6105428c7b48",
   "metadata": {},
   "outputs": [
    {
     "name": "stdout",
     "output_type": "stream",
     "text": [
      "ACC-abstract_algebra: 0.3000\n",
      "ACC-anatomy: 0.4741\n",
      "ACC-astronomy: 0.4079\n",
      "ACC-business_ethics: 0.5300\n",
      "ACC-clinical_knowledge: 0.4642\n",
      "ACC-college_biology: 0.4722\n",
      "ACC-college_chemistry: 0.3400\n",
      "ACC-college_computer_science: 0.3300\n",
      "ACC-college_mathematics: 0.3200\n",
      "ACC-college_medicine: 0.4277\n",
      "ACC-college_physics: 0.2157\n",
      "ACC-computer_security: 0.6000\n",
      "ACC-conceptual_physics: 0.4213\n",
      "ACC-econometrics: 0.2807\n",
      "ACC-electrical_engineering: 0.4828\n",
      "ACC-elementary_mathematics: 0.2725\n",
      "ACC-formal_logic: 0.2698\n",
      "ACC-global_facts: 0.3200\n",
      "ACC-high_school_biology: 0.5097\n",
      "ACC-high_school_chemistry: 0.3695\n",
      "ACC-high_school_computer_science: 0.4000\n",
      "ACC-high_school_european_history: 0.6182\n",
      "ACC-high_school_geography: 0.4949\n",
      "ACC-high_school_government_and_politics: 0.6736\n",
      "ACC-high_school_macroeconomics: 0.4641\n",
      "ACC-high_school_mathematics: 0.2926\n",
      "ACC-high_school_microeconomics: 0.4412\n",
      "ACC-high_school_physics: 0.3179\n",
      "ACC-high_school_psychology: 0.6239\n",
      "ACC-high_school_statistics: 0.2778\n",
      "ACC-high_school_us_history: 0.5049\n",
      "ACC-high_school_world_history: 0.6456\n",
      "ACC-human_aging: 0.5605\n",
      "ACC-human_sexuality: 0.5573\n",
      "ACC-international_law: 0.6529\n",
      "ACC-jurisprudence: 0.5370\n",
      "ACC-logical_fallacies: 0.5153\n",
      "ACC-machine_learning: 0.3839\n",
      "ACC-management: 0.5437\n",
      "ACC-marketing: 0.6838\n",
      "ACC-medical_genetics: 0.5500\n",
      "ACC-miscellaneous: 0.6360\n",
      "ACC-moral_disputes: 0.5116\n",
      "ACC-moral_scenarios: 0.2391\n",
      "ACC-nutrition: 0.4869\n",
      "ACC-philosophy: 0.6013\n",
      "ACC-prehistory: 0.4877\n",
      "ACC-professional_accounting: 0.3652\n",
      "ACC-professional_law: 0.3631\n",
      "ACC-professional_medicine: 0.5257\n",
      "ACC-professional_psychology: 0.4412\n",
      "ACC-public_relations: 0.5455\n",
      "ACC-security_studies: 0.4816\n",
      "ACC-sociology: 0.6269\n",
      "ACC-us_foreign_policy: 0.6400\n",
      "ACC-virology: 0.4157\n",
      "ACC-world_religions: 0.6901\n",
      "ACC-all: 0.4587\n"
     ]
    }
   ],
   "source": [
    "total_acc = 0\n",
    "\n",
    "total_num = 0\n",
    "for task in flan_resultscpu_overall:\n",
    "    acc = 0\n",
    "    pred_answers = llama5b_results_overall[task]\n",
    "\n",
    "    gold_answers = llama5b_results[task]['gold_answers']\n",
    "    for pred, gold in zip(pred_answers, gold_answers):\n",
    "        if (pred == gold):\n",
    "            acc += 1\n",
    "    print(\"ACC-%s: %.4f\" % (task, acc/len(gold_answers)))\n",
    "    total_acc += acc\n",
    "\n",
    "    total_num += len(gold_answers)\n",
    "print(\"ACC-all: %.4f\" % (total_acc/total_num))\n"
   ]
  },
  {
   "cell_type": "code",
   "execution_count": null,
   "id": "0ce4a717-3190-4d66-9e3b-bdd47a74c676",
   "metadata": {},
   "outputs": [],
   "source": [
    "# FLAN '205' -> 'C' , '272' -> 'B' , '71' -> 'A' , '309' -> 'D'\n",
    "#LLAMA 350 -> \"B\" , 319 -> \"A\" , 315 -> \"C\", 360 -> \"D\"\n",
    "# [A,B,C,D]\n",
    "#FLAN [71,272,205,309]\n",
    "#LLAMA [319,350,316,360]"
   ]
  },
  {
   "cell_type": "code",
   "execution_count": 25,
   "id": "38b15096-51d4-4747-b919-104e2c940f4d",
   "metadata": {},
   "outputs": [
    {
     "data": {
      "text/plain": [
       "['C', 'D', 'B', 'C', 'C', 'C', 'D', 'B']"
      ]
     },
     "execution_count": 25,
     "metadata": {},
     "output_type": "execute_result"
    }
   ],
   "source": [
    "flantokenizer.batch_decode(torch.argmax(flan_resultscpu['abstract_algebra'][1], axis = 1), skip_special_tokens=True)"
   ]
  },
  {
   "cell_type": "code",
   "execution_count": 23,
   "id": "acb3f65f-f5c4-4915-8c7d-f68c52fbb3c9",
   "metadata": {},
   "outputs": [
    {
     "data": {
      "text/plain": [
       "['B', 'C', 'D', 'B', 'B', 'A', 'A', 'D']"
      ]
     },
     "execution_count": 23,
     "metadata": {},
     "output_type": "execute_result"
    }
   ],
   "source": [
    "flan_results['abstract_algebra']['gold_answers'][0:8]"
   ]
  },
  {
   "cell_type": "code",
   "execution_count": 17,
   "id": "536485d0-65dc-4622-b534-1b519010bb45",
   "metadata": {},
   "outputs": [
    {
     "data": {
      "text/plain": [
       "['B', 'A', 'C', 'A', 'B', 'A', 'A', 'A']"
      ]
     },
     "execution_count": 17,
     "metadata": {},
     "output_type": "execute_result"
    }
   ],
   "source": [
    "tokenizer.batch_decode(torch.argmax(llama5b_results['abstract_algebra']['pred_answers'][0], axis = 1), skip_special_tokens=True)\n"
   ]
  },
  {
   "cell_type": "code",
   "execution_count": 20,
   "id": "b8de4866-e0af-4d33-9273-12f0b3dfa654",
   "metadata": {},
   "outputs": [
    {
     "ename": "NameError",
     "evalue": "name 'tokenizer' is not defined",
     "output_type": "error",
     "traceback": [
      "\u001b[0;31m---------------------------------------------------------------------------\u001b[0m",
      "\u001b[0;31mNameError\u001b[0m                                 Traceback (most recent call last)",
      "Cell \u001b[0;32mIn[20], line 1\u001b[0m\n\u001b[0;32m----> 1\u001b[0m \u001b[38;5;28;01mdel\u001b[39;00m  tokenizer\n",
      "\u001b[0;31mNameError\u001b[0m: name 'tokenizer' is not defined"
     ]
    }
   ],
   "source": [
    "    \n",
    "torch.cuda.empty_cache()\n",
    "\n",
    "with open(output_filename, 'w') as f:\n",
    "    json.dump(run_results, f, ensure_ascii=False, indent=2)\n",
    "\n",
    "compute_metric(output_filename)\n",
    "end_time = time.time()\n",
    "print(\"total run time %.2f\" % (end_time - start_time))\n",
    "\n"
   ]
  },
  {
   "cell_type": "code",
   "execution_count": 19,
   "id": "7472e700-bd2e-4181-8e79-cf7f5bd63d22",
   "metadata": {},
   "outputs": [],
   "source": [
    "torch.cuda.empty_cache()\n"
   ]
  },
  {
   "cell_type": "code",
   "execution_count": 12,
   "id": "b5082587-9e06-42c3-a3cf-c56cfb224575",
   "metadata": {},
   "outputs": [
    {
     "data": {
      "text/plain": [
       "svmem(total=1081844498432, available=1012713230336, percent=6.4, used=61227769856, free=5400731648, active=492549255168, inactive=568139595776, buffers=177975296, cached=1015038021632, shared=1578102784, slab=12913483776)"
      ]
     },
     "execution_count": 12,
     "metadata": {},
     "output_type": "execute_result"
    }
   ],
   "source": [
    "import psutil\n",
    "psutil.virtual_memory()\n"
   ]
  },
  {
   "cell_type": "code",
   "execution_count": 160,
   "id": "a6972f60-e000-416d-b631-5fe555410aa3",
   "metadata": {},
   "outputs": [],
   "source": [
    "analysis_df['is_correct_int'] = analysis_df.is_correct.astype(int)"
   ]
  },
  {
   "cell_type": "code",
   "execution_count": 158,
   "id": "19b94b19-d99d-41be-bdbd-324bd6aaeaa4",
   "metadata": {},
   "outputs": [],
   "source": [
    "analysis_df['is_confident'] = analysis_df['diff_1_2'] > 2"
   ]
  },
  {
   "cell_type": "code",
   "execution_count": 161,
   "id": "4351bc7d-5e6d-4157-8198-a561c6581d6a",
   "metadata": {},
   "outputs": [
    {
     "data": {
      "text/plain": [
       "array([[<Axes: title={'center': '(False, flan)'}>,\n",
       "        <Axes: title={'center': '(False, llama)'}>],\n",
       "       [<Axes: title={'center': '(True, flan)'}>,\n",
       "        <Axes: title={'center': '(True, llama)'}>]], dtype=object)"
      ]
     },
     "execution_count": 161,
     "metadata": {},
     "output_type": "execute_result"
    },
    {
     "data": {
      "image/png": "[encoded data removed]",
      "text/plain": [
       "<Figure size 640x480 with 4 Axes>"
      ]
     },
     "metadata": {},
     "output_type": "display_data"
    }
   ],
   "source": [
    "analysis_df.hist('is_correct_int' , by = ['is_confident','model'])\n"
   ]
  },
  {
   "cell_type": "code",
   "execution_count": 157,
   "id": "0114aa65-86f3-4aaf-b839-371ee8dea873",
   "metadata": {},
   "outputs": [
    {
     "data": {
      "text/plain": [
       "array([[<Axes: title={'center': '(False, flan)'}>,\n",
       "        <Axes: title={'center': '(False, llama)'}>],\n",
       "       [<Axes: title={'center': '(True, flan)'}>,\n",
       "        <Axes: title={'center': '(True, llama)'}>]], dtype=object)"
      ]
     },
     "execution_count": 157,
     "metadata": {},
     "output_type": "execute_result"
    },
    {
     "data": {
      "image/png": "[encoded data removed]",
      "text/plain": [
       "<Figure size 640x480 with 4 Axes>"
      ]
     },
     "metadata": {},
     "output_type": "display_data"
    }
   ],
   "source": [
    "analysis_df.hist('diff_1_2' , by = ['is_correct','model'])\n"
   ]
  },
  {
   "cell_type": "code",
   "execution_count": 150,
   "id": "57681665-98c4-4d3a-9979-ff3ffd52bb0e",
   "metadata": {},
   "outputs": [
    {
     "data": {
      "text/html": [
       "<div>\n",
       "<style scoped>\n",
       "    .dataframe tbody tr th:only-of-type {\n",
       "        vertical-align: middle;\n",
       "    }\n",
       "\n",
       "    .dataframe tbody tr th {\n",
       "        vertical-align: top;\n",
       "    }\n",
       "\n",
       "    .dataframe thead th {\n",
       "        text-align: right;\n",
       "    }\n",
       "</style>\n",
       "<table border=\"1\" class=\"dataframe\">\n",
       "  <thead>\n",
       "    <tr style=\"text-align: right;\">\n",
       "      <th></th>\n",
       "      <th>model</th>\n",
       "      <th>task</th>\n",
       "      <th>gold</th>\n",
       "      <th>gold_idx</th>\n",
       "      <th>is_correct</th>\n",
       "      <th>top_idx</th>\n",
       "      <th>top_val</th>\n",
       "      <th>gold_val</th>\n",
       "      <th>second_idx</th>\n",
       "      <th>second_val</th>\n",
       "      <th>third_idx</th>\n",
       "      <th>third_val</th>\n",
       "      <th>fourth_idx</th>\n",
       "      <th>fourth_val</th>\n",
       "    </tr>\n",
       "  </thead>\n",
       "  <tbody>\n",
       "    <tr>\n",
       "      <th>0</th>\n",
       "      <td>llama</td>\n",
       "      <td>abstract_algebra</td>\n",
       "      <td>B</td>\n",
       "      <td>1</td>\n",
       "      <td>True</td>\n",
       "      <td>1</td>\n",
       "      <td>23.640625</td>\n",
       "      <td>23.640625</td>\n",
       "      <td>0</td>\n",
       "      <td>22.390625</td>\n",
       "      <td>3</td>\n",
       "      <td>22.140625</td>\n",
       "      <td>2</td>\n",
       "      <td>8.976562</td>\n",
       "    </tr>\n",
       "    <tr>\n",
       "      <th>1</th>\n",
       "      <td>llama</td>\n",
       "      <td>abstract_algebra</td>\n",
       "      <td>C</td>\n",
       "      <td>2</td>\n",
       "      <td>False</td>\n",
       "      <td>0</td>\n",
       "      <td>23.062500</td>\n",
       "      <td>8.492188</td>\n",
       "      <td>1</td>\n",
       "      <td>22.984375</td>\n",
       "      <td>3</td>\n",
       "      <td>22.109375</td>\n",
       "      <td>2</td>\n",
       "      <td>8.492188</td>\n",
       "    </tr>\n",
       "    <tr>\n",
       "      <th>2</th>\n",
       "      <td>llama</td>\n",
       "      <td>abstract_algebra</td>\n",
       "      <td>D</td>\n",
       "      <td>3</td>\n",
       "      <td>False</td>\n",
       "      <td>1</td>\n",
       "      <td>22.187500</td>\n",
       "      <td>21.562500</td>\n",
       "      <td>3</td>\n",
       "      <td>21.562500</td>\n",
       "      <td>0</td>\n",
       "      <td>21.453125</td>\n",
       "      <td>2</td>\n",
       "      <td>8.632812</td>\n",
       "    </tr>\n",
       "    <tr>\n",
       "      <th>3</th>\n",
       "      <td>llama</td>\n",
       "      <td>abstract_algebra</td>\n",
       "      <td>B</td>\n",
       "      <td>1</td>\n",
       "      <td>False</td>\n",
       "      <td>0</td>\n",
       "      <td>25.281250</td>\n",
       "      <td>25.171875</td>\n",
       "      <td>1</td>\n",
       "      <td>25.171875</td>\n",
       "      <td>3</td>\n",
       "      <td>24.125000</td>\n",
       "      <td>2</td>\n",
       "      <td>9.445312</td>\n",
       "    </tr>\n",
       "    <tr>\n",
       "      <th>4</th>\n",
       "      <td>llama</td>\n",
       "      <td>abstract_algebra</td>\n",
       "      <td>B</td>\n",
       "      <td>1</td>\n",
       "      <td>True</td>\n",
       "      <td>1</td>\n",
       "      <td>22.703125</td>\n",
       "      <td>22.703125</td>\n",
       "      <td>0</td>\n",
       "      <td>22.625000</td>\n",
       "      <td>3</td>\n",
       "      <td>22.375000</td>\n",
       "      <td>2</td>\n",
       "      <td>8.960938</td>\n",
       "    </tr>\n",
       "    <tr>\n",
       "      <th>...</th>\n",
       "      <td>...</td>\n",
       "      <td>...</td>\n",
       "      <td>...</td>\n",
       "      <td>...</td>\n",
       "      <td>...</td>\n",
       "      <td>...</td>\n",
       "      <td>...</td>\n",
       "      <td>...</td>\n",
       "      <td>...</td>\n",
       "      <td>...</td>\n",
       "      <td>...</td>\n",
       "      <td>...</td>\n",
       "      <td>...</td>\n",
       "      <td>...</td>\n",
       "    </tr>\n",
       "    <tr>\n",
       "      <th>14037</th>\n",
       "      <td>llama</td>\n",
       "      <td>world_religions</td>\n",
       "      <td>A</td>\n",
       "      <td>0</td>\n",
       "      <td>False</td>\n",
       "      <td>3</td>\n",
       "      <td>24.484375</td>\n",
       "      <td>24.203125</td>\n",
       "      <td>1</td>\n",
       "      <td>24.343750</td>\n",
       "      <td>0</td>\n",
       "      <td>24.203125</td>\n",
       "      <td>2</td>\n",
       "      <td>9.359375</td>\n",
       "    </tr>\n",
       "    <tr>\n",
       "      <th>14038</th>\n",
       "      <td>llama</td>\n",
       "      <td>world_religions</td>\n",
       "      <td>C</td>\n",
       "      <td>2</td>\n",
       "      <td>False</td>\n",
       "      <td>3</td>\n",
       "      <td>24.437500</td>\n",
       "      <td>9.187500</td>\n",
       "      <td>1</td>\n",
       "      <td>24.234375</td>\n",
       "      <td>0</td>\n",
       "      <td>23.875000</td>\n",
       "      <td>2</td>\n",
       "      <td>9.187500</td>\n",
       "    </tr>\n",
       "    <tr>\n",
       "      <th>14039</th>\n",
       "      <td>llama</td>\n",
       "      <td>world_religions</td>\n",
       "      <td>B</td>\n",
       "      <td>1</td>\n",
       "      <td>True</td>\n",
       "      <td>1</td>\n",
       "      <td>24.781250</td>\n",
       "      <td>24.781250</td>\n",
       "      <td>0</td>\n",
       "      <td>23.453125</td>\n",
       "      <td>3</td>\n",
       "      <td>22.015625</td>\n",
       "      <td>2</td>\n",
       "      <td>10.421875</td>\n",
       "    </tr>\n",
       "    <tr>\n",
       "      <th>14040</th>\n",
       "      <td>llama</td>\n",
       "      <td>world_religions</td>\n",
       "      <td>B</td>\n",
       "      <td>1</td>\n",
       "      <td>True</td>\n",
       "      <td>1</td>\n",
       "      <td>25.218750</td>\n",
       "      <td>25.218750</td>\n",
       "      <td>0</td>\n",
       "      <td>24.359375</td>\n",
       "      <td>3</td>\n",
       "      <td>23.750000</td>\n",
       "      <td>2</td>\n",
       "      <td>9.734375</td>\n",
       "    </tr>\n",
       "    <tr>\n",
       "      <th>14041</th>\n",
       "      <td>llama</td>\n",
       "      <td>world_religions</td>\n",
       "      <td>A</td>\n",
       "      <td>0</td>\n",
       "      <td>True</td>\n",
       "      <td>0</td>\n",
       "      <td>25.046875</td>\n",
       "      <td>25.046875</td>\n",
       "      <td>1</td>\n",
       "      <td>23.703125</td>\n",
       "      <td>3</td>\n",
       "      <td>23.562500</td>\n",
       "      <td>2</td>\n",
       "      <td>8.601562</td>\n",
       "    </tr>\n",
       "  </tbody>\n",
       "</table>\n",
       "<p>14042 rows × 14 columns</p>\n",
       "</div>"
      ],
      "text/plain": [
       "       model              task gold  gold_idx  is_correct  top_idx    top_val  \\\n",
       "0      llama  abstract_algebra    B         1        True        1  23.640625   \n",
       "1      llama  abstract_algebra    C         2       False        0  23.062500   \n",
       "2      llama  abstract_algebra    D         3       False        1  22.187500   \n",
       "3      llama  abstract_algebra    B         1       False        0  25.281250   \n",
       "4      llama  abstract_algebra    B         1        True        1  22.703125   \n",
       "...      ...               ...  ...       ...         ...      ...        ...   \n",
       "14037  llama   world_religions    A         0       False        3  24.484375   \n",
       "14038  llama   world_religions    C         2       False        3  24.437500   \n",
       "14039  llama   world_religions    B         1        True        1  24.781250   \n",
       "14040  llama   world_religions    B         1        True        1  25.218750   \n",
       "14041  llama   world_religions    A         0        True        0  25.046875   \n",
       "\n",
       "        gold_val  second_idx  second_val  third_idx  third_val  fourth_idx  \\\n",
       "0      23.640625           0   22.390625          3  22.140625           2   \n",
       "1       8.492188           1   22.984375          3  22.109375           2   \n",
       "2      21.562500           3   21.562500          0  21.453125           2   \n",
       "3      25.171875           1   25.171875          3  24.125000           2   \n",
       "4      22.703125           0   22.625000          3  22.375000           2   \n",
       "...          ...         ...         ...        ...        ...         ...   \n",
       "14037  24.203125           1   24.343750          0  24.203125           2   \n",
       "14038   9.187500           1   24.234375          0  23.875000           2   \n",
       "14039  24.781250           0   23.453125          3  22.015625           2   \n",
       "14040  25.218750           0   24.359375          3  23.750000           2   \n",
       "14041  25.046875           1   23.703125          3  23.562500           2   \n",
       "\n",
       "       fourth_val  \n",
       "0        8.976562  \n",
       "1        8.492188  \n",
       "2        8.632812  \n",
       "3        9.445312  \n",
       "4        8.960938  \n",
       "...           ...  \n",
       "14037    9.359375  \n",
       "14038    9.187500  \n",
       "14039   10.421875  \n",
       "14040    9.734375  \n",
       "14041    8.601562  \n",
       "\n",
       "[14042 rows x 14 columns]"
      ]
     },
     "execution_count": 150,
     "metadata": {},
     "output_type": "execute_result"
    }
   ],
   "source": [
    "analysis_df_llama"
   ]
  },
  {
   "cell_type": "code",
   "execution_count": null,
   "id": "1df7bb31-0826-4561-831f-1410dd23d680",
   "metadata": {},
   "outputs": [],
   "source": [
    "ACC-human_aging: 0.5605\n",
    "ACC-human_sexuality: 0.7023\n",
    "ACC-international_law: 0.7107\n",
    "ACC-jurisprudence: 0.7037\n",
    "ACC-logical_fallacies: 0.6380\n",
    "ACC-machine_learning: 0.3661\n",
    "ACC-management: 0.7379\n",
    "ACC-marketing: 0.8590\n",
    "ACC-medical_genetics: 0.5400\n",
    "ACC-miscellaneous: 0.7203\n",
    "ACC-moral_disputes: 0.6445\n",
    "ACC-moral_scenarios: 0.2804\n",
    "ACC-nutrition: 0.6176\n",
    "ACC-philosophy: 0.5627\n",
    "ACC-prehistory: 0.5802\n",
    "ACC-professional_accounting: 0.4326\n",
    "ACC-professional_law: 0.4316\n",
    "ACC-professional_medicine: 0.5588\n",
    "ACC-professional_psychology: 0.5376\n",
    "ACC-public_relations: 0.6091\n",
    "ACC-security_studies: 0.6939\n",
    "ACC-sociology: 0.7313\n",
    "ACC-us_foreign_policy: 0.7700\n",
    "ACC-virology: 0.4639\n",
    "ACC-world_religions: 0.7135\n",
    "ACC-all: 0.5450\n",
    "\n",
    "\n",
    "ACC-human_aging: 0.6099\n",
    "ACC-human_sexuality: 0.5878\n",
    "ACC-international_law: 0.6529\n",
    "ACC-jurisprudence: 0.6944\n",
    "ACC-logical_fallacies: 0.6258\n",
    "ACC-machine_learning: 0.3750\n",
    "ACC-\n",
    "': 0.6893\n",
    "ACC-marketing: 0.7735\n",
    "ACC-medical_genetics: 0.5500\n",
    "ACC-miscellaneous: 0.7114\n",
    "ACC-moral_disputes: 0.5723\n",
    "ACC-moral_scenarios: 0.2391\n",
    "ACC-nutrition: 0.5817\n",
    "ACC-philosophy: 0.5627\n",
    "ACC-prehistory: 0.5463\n",
    "ACC-professional_accounting: 0.3759\n",
    "ACC-professional_law: 0.3937\n",
    "ACC-professional_medicine: 0.5331\n",
    "ACC-professional_psychology: 0.4869\n",
    "ACC-public_relations: 0.5727\n",
    "ACC-security_studies: 0.6286\n",
    "ACC-sociology: 0.6965\n",
    "ACC-us_foreign_policy: 0.7000\n",
    "ACC-virology: 0.4699\n",
    "ACC-world_religions: 0.7135\n",
    "ACC-all: 0.5110\n",
    "\n"
   ]
  }
 ],
 "metadata": {
  "kernelspec": {
   "display_name": "Python 3 (ipykernel)",
   "language": "python",
   "name": "python3"
  },
  "language_info": {
   "codemirror_mode": {
    "name": "ipython",
    "version": 3
   },
   "file_extension": ".py",
   "mimetype": "text/x-python",
   "name": "python",
   "nbconvert_exporter": "python",
   "pygments_lexer": "ipython3",
   "version": "3.10.6"
  }
 },
 "nbformat": 4,
 "nbformat_minor": 5
}
